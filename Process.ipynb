{
 "cells": [
  {
   "cell_type": "markdown",
   "id": "6485447a",
   "metadata": {},
   "source": [
    "# インポート"
   ]
  },
  {
   "cell_type": "code",
   "execution_count": 2,
   "id": "41fd6b11",
   "metadata": {},
   "outputs": [],
   "source": [
    "import numpy as np\n",
    "import os, random\n",
    "from utils.split_dataset import split_dataset\n",
    "\n",
    "from tflite_model_maker.config import ExportFormat\n",
    "from tflite_model_maker import model_spec\n",
    "from tflite_model_maker import object_detector\n",
    "\n",
    "import tensorflow as tf\n",
    "assert tf.__version__.startswith('2')\n",
    "\n",
    "tf.get_logger().setLevel('ERROR')\n",
    "from absl import logging\n",
    "logging.set_verbosity(logging.ERROR)"
   ]
  },
  {
   "cell_type": "code",
   "execution_count": 2,
   "id": "b5d6204c",
   "metadata": {},
   "outputs": [],
   "source": [
    "dir_input = 'inputs'\n",
    "dir_input_sample = os.path.join(dir_input, \"sample\")\n",
    "dir_input_dataset = os.path.join(dir_input, \"dataset\")\n",
    "dir_processing = 'processing'\n",
    "dir_output = 'outputs'"
   ]
  },
  {
   "cell_type": "code",
   "execution_count": 3,
   "id": "b11dc85e",
   "metadata": {},
   "outputs": [],
   "source": [
    "# sample\n",
    "use_custom_dataset = False\n",
    "file_sample = os.path.join(dir_input_sample, 'sample.csv') # 要変換\n",
    "file_output_tflite = 'efficientdet-lite-salad.tflite'\n",
    "file_output_labels = 'salad-labels.txt'"
   ]
  },
  {
   "cell_type": "raw",
   "id": "d862b2ae",
   "metadata": {},
   "source": [
    "# custom\n",
    "use_custom_dataset = True\n",
    "dir_images = os.path.join(dir_input_dataset, 'images')\n",
    "dir_annotations = os.path.join(dir_input_dataset, 'annotations')\n",
    "file_output_tflite = 'dataset.tflite'\n",
    "file_output_labels = 'dataset-labels.txt'"
   ]
  },
  {
   "cell_type": "markdown",
   "id": "8716ab61",
   "metadata": {},
   "source": [
    "# データ準備"
   ]
  },
  {
   "cell_type": "code",
   "execution_count": 4,
   "id": "6351d2ff",
   "metadata": {},
   "outputs": [
    {
     "name": "stdout",
     "output_type": "stream",
     "text": [
      "INFO:tensorflow:Cache will be stored in C:\\Users\\saito\\AppData\\Local\\Temp\\tmp8x2rhyed with prefix filename train_41e10587cc007cd10ef3e87cd861a652. Cache_prefix is C:\\Users\\saito\\AppData\\Local\\Temp\\tmp8x2rhyed\\train_41e10587cc007cd10ef3e87cd861a652\n",
      "INFO:tensorflow:Cache will be stored in C:\\Users\\saito\\AppData\\Local\\Temp\\tmpm4hg79kh with prefix filename val_41e10587cc007cd10ef3e87cd861a652. Cache_prefix is C:\\Users\\saito\\AppData\\Local\\Temp\\tmpm4hg79kh\\val_41e10587cc007cd10ef3e87cd861a652\n",
      "INFO:tensorflow:Cache will be stored in C:\\Users\\saito\\AppData\\Local\\Temp\\tmppsvsib53 with prefix filename test_41e10587cc007cd10ef3e87cd861a652. Cache_prefix is C:\\Users\\saito\\AppData\\Local\\Temp\\tmppsvsib53\\test_41e10587cc007cd10ef3e87cd861a652\n",
      "INFO:tensorflow:On image 0\n",
      "INFO:tensorflow:On image 100\n",
      "INFO:tensorflow:On image 0\n",
      "INFO:tensorflow:On image 0\n"
     ]
    }
   ],
   "source": [
    "if not use_custom_dataset:\n",
    "    train_data, validation_data, test_data = object_detector.DataLoader.from_csv(file_sample)\n",
    "\n",
    "else:\n",
    "    label_map = {1: 'shiro', 2: 'others'}\n",
    "    train_dir, val_dir, test_dir = split_dataset(dir_images, dir_annotations, val_split=0.2, test_split=0.2, out_path=dir_processing)\n",
    "    train_data = object_detector.DataLoader.from_pascal_voc(\n",
    "        os.path.join(train_dir, 'images'),\n",
    "        os.path.join(train_dir, 'annotations'), label_map=label_map)\n",
    "    validation_data = object_detector.DataLoader.from_pascal_voc(\n",
    "        os.path.join(val_dir, 'images'),\n",
    "        os.path.join(val_dir, 'annotations'), label_map=label_map)\n",
    "    test_data = object_detector.DataLoader.from_pascal_voc(\n",
    "        os.path.join(test_dir, 'images'),\n",
    "        os.path.join(test_dir, 'annotations'), label_map=label_map)\n"
   ]
  },
  {
   "cell_type": "code",
   "execution_count": 5,
   "id": "2cffa445",
   "metadata": {},
   "outputs": [
    {
     "name": "stdout",
     "output_type": "stream",
     "text": [
      "train count: 175\n",
      "validation count: 25\n",
      "test count: 25\n"
     ]
    }
   ],
   "source": [
    "print(f'train count: {len(train_data)}')\n",
    "print(f'validation count: {len(validation_data)}')\n",
    "print(f'test count: {len(test_data)}')"
   ]
  },
  {
   "cell_type": "markdown",
   "id": "5f073282",
   "metadata": {},
   "source": [
    "# モデル選択  \n",
    "0～4が選べる"
   ]
  },
  {
   "cell_type": "code",
   "execution_count": 6,
   "id": "4c7f0a10",
   "metadata": {},
   "outputs": [],
   "source": [
    "spec = model_spec.get('efficientdet_lite4')"
   ]
  },
  {
   "cell_type": "raw",
   "id": "cda2157e",
   "metadata": {},
   "source": [
    "spec = object_detector.EfficientDetLite4Spec()"
   ]
  },
  {
   "cell_type": "markdown",
   "id": "1dc1ab8b",
   "metadata": {},
   "source": [
    "# 学習"
   ]
  },
  {
   "cell_type": "code",
   "execution_count": null,
   "id": "b118a172",
   "metadata": {
    "scrolled": true
   },
   "outputs": [],
   "source": [
    "model = object_detector.create(train_data=train_data, \n",
    "                               model_spec=spec, \n",
    "                               validation_data=validation_data, \n",
    "                               epochs=1, \n",
    "                               batch_size=10, \n",
    "                               train_whole_model=True)"
   ]
  },
  {
   "cell_type": "markdown",
   "id": "629be142",
   "metadata": {},
   "source": [
    "# 検証（数値）"
   ]
  },
  {
   "cell_type": "code",
   "execution_count": null,
   "id": "1ab28aa0",
   "metadata": {},
   "outputs": [],
   "source": [
    "model.evaluate(test_data)"
   ]
  },
  {
   "cell_type": "raw",
   "id": "18f6f9c4",
   "metadata": {},
   "source": [
    "# TFLiteファイルでも可能\n",
    "model.evaluate_tflite(file_output_tflite, test_data)"
   ]
  },
  {
   "cell_type": "raw",
   "id": "5229ae74",
   "metadata": {},
   "source": [
    "# sample valid\n",
    "{'AP': 0.00065484596,\n",
    " 'AP50': 0.0026320482,\n",
    " 'AP75': 0.00012401452,\n",
    " 'APs': -1.0,\n",
    " 'APm': 0.0020487094,\n",
    " 'APl': 0.00074870227,\n",
    " 'ARmax1': 0.002242647,\n",
    " 'ARmax10': 0.012266043,\n",
    " 'ARmax100': 0.020682933,\n",
    " 'ARs': -1.0,\n",
    " 'ARm': 0.11666667,\n",
    " 'ARl': 0.020391919,\n",
    " 'AP_/Baked Goods': 0.0,\n",
    " 'AP_/Salad': 4.9292223e-05,\n",
    " 'AP_/Cheese': 0.0002540742,\n",
    " 'AP_/Seafood': 0.0,\n",
    " 'AP_/Tomato': 0.0029708634}"
   ]
  },
  {
   "cell_type": "raw",
   "id": "bb9d2967",
   "metadata": {},
   "source": [
    "# custom valid\n",
    "{'AP': 0.76666665,\n",
    " 'AP50': 1.0,\n",
    " 'AP75': 1.0,\n",
    " 'APs': -1.0,\n",
    " 'APm': -1.0,\n",
    " 'APl': 0.76666665,\n",
    " 'ARmax1': 0.8,\n",
    " 'ARmax10': 0.8,\n",
    " 'ARmax100': 0.8,\n",
    " 'ARs': -1.0,\n",
    " 'ARm': -1.0,\n",
    " 'ARl': 0.8,\n",
    " 'AP_/shiro': 0.76666665}"
   ]
  },
  {
   "cell_type": "markdown",
   "id": "2eff2231",
   "metadata": {},
   "source": [
    "# 検証（画像）"
   ]
  },
  {
   "cell_type": "raw",
   "id": "8ee87a00",
   "metadata": {},
   "source": [
    "コマンドラインで下記を実行する\n",
    "! pip3 install --extra-index-url https://google-coral.github.io/py-repo/ pycoral\n",
    "! pip3 install --extra-index-url https://google-coral.github.io/py-repo/ tflite_runtime"
   ]
  },
  {
   "cell_type": "code",
   "execution_count": 6,
   "id": "3972fdcb",
   "metadata": {},
   "outputs": [],
   "source": [
    "list_images = []\n",
    "if use_custom_dataset:\n",
    "    images_path = os.path.join(test_dir, \"images\")\n",
    "    filenames = os.listdir(images_path)\n",
    "    for file in filenames:\n",
    "        if file.endswith('.jpg'):\n",
    "            list_images.append(file)\n",
    "else:\n",
    "    filenames = os.listdir(dir_input_sample)\n",
    "    for file in filenames:\n",
    "        if file.endswith('.jpg'):\n",
    "            list_images.append(file)"
   ]
  },
  {
   "cell_type": "raw",
   "id": "0ce4c498",
   "metadata": {},
   "source": [
    "# エラーが出るので対応ストップ\n",
    "# ImportError: generic_type: type \"InterpreterWrapper\" is already registered!\n",
    "from PIL import Image\n",
    "from PIL import ImageDraw\n",
    "from PIL import ImageFont\n",
    "\n",
    "import tflite_runtime.interpreter as tflite\n",
    "from pycoral.adapters import common\n",
    "from pycoral.adapters import detect\n",
    "from pycoral.utils.dataset import read_label_file"
   ]
  },
  {
   "cell_type": "markdown",
   "id": "fa3f7851",
   "metadata": {},
   "source": [
    "# 変換"
   ]
  },
  {
   "cell_type": "code",
   "execution_count": 10,
   "id": "5d31d315",
   "metadata": {},
   "outputs": [],
   "source": [
    "model.export(export_dir=dir_output, tflite_filename=file_output_tflite, label_filename=file_output_labels,\n",
    "             export_format=[ExportFormat.TFLITE, ExportFormat.LABEL])"
   ]
  },
  {
   "cell_type": "code",
   "execution_count": null,
   "id": "afaa2eef",
   "metadata": {},
   "outputs": [],
   "source": []
  }
 ],
 "metadata": {
  "kernelspec": {
   "display_name": "Python 3 (ipykernel)",
   "language": "python",
   "name": "python3"
  },
  "language_info": {
   "codemirror_mode": {
    "name": "ipython",
    "version": 3
   },
   "file_extension": ".py",
   "mimetype": "text/x-python",
   "name": "python",
   "nbconvert_exporter": "python",
   "pygments_lexer": "ipython3",
   "version": "3.9.12"
  }
 },
 "nbformat": 4,
 "nbformat_minor": 5
}
